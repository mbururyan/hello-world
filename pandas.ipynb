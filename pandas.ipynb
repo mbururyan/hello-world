{
 "cells": [
  {
   "cell_type": "code",
   "execution_count": 1,
   "source": [
    "import pandas as pd"
   ],
   "outputs": [],
   "metadata": {}
  },
  {
   "cell_type": "code",
   "execution_count": null,
   "source": [
    "data = [{'name': 'vikash', 'age': 27}, {'name': 'Satyam', 'age': 14}]\n",
    "df = pd.DataFrame.from_dict(data, orient='columns')\n",
    "df"
   ],
   "outputs": [],
   "metadata": {}
  }
 ],
 "metadata": {
  "orig_nbformat": 4,
  "language_info": {
   "name": "python",
   "version": "3.8.8",
   "mimetype": "text/x-python",
   "codemirror_mode": {
    "name": "ipython",
    "version": 3
   },
   "pygments_lexer": "ipython3",
   "nbconvert_exporter": "python",
   "file_extension": ".py"
  },
  "kernelspec": {
   "name": "python3",
   "display_name": "Python 3.8.8 64-bit ('base': conda)"
  },
  "interpreter": {
   "hash": "5e33e5004145b98e8222cb2d939e6df70ade89a40d2ac6741c844fb03b1308f9"
  }
 },
 "nbformat": 4,
 "nbformat_minor": 2
}